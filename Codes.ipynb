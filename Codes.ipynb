{
 "cells": [
  {
   "cell_type": "code",
   "execution_count": null,
   "id": "f15d72f4-3e8e-4dcd-b678-33f7800611a3",
   "metadata": {},
   "outputs": [],
   "source": [
    "\n",
    "                                        # part 1 --> code with harry\n"
   ]
  },
  {
   "cell_type": "code",
   "execution_count": null,
   "id": "f9c02cc9-f78c-4d79-abaa-5d9c28578fea",
   "metadata": {
    "editable": true,
    "slideshow": {
     "slide_type": ""
    },
    "tags": []
   },
   "outputs": [],
   "source": []
  },
  {
   "cell_type": "code",
   "execution_count": 33,
   "id": "32d38a0b-3d23-48d2-913b-975fe9a4c2ff",
   "metadata": {},
   "outputs": [
    {
     "name": "stdout",
     "output_type": "stream",
     "text": [
      "Song Lyrics\n",
      "Twinkle twinkle little star.\n",
      "How I wonder what you are.\n",
      "Up above the world so high.\n",
      "Like a diamond in the sky.\n",
      "Twinkle twinkle little star.\n",
      "How I wonder what you are.\n",
      "\n",
      "Twinkle twinkle little star.\n",
      "How I wonder what you are.\n",
      "Up above the world so high.\n",
      "Like a diamond in the sky.\n",
      "Twinkle twinkle little star.\n",
      "How I wonder what you are.\n"
     ]
    }
   ],
   "source": [
    "print ('''Song Lyrics\n",
    "Twinkle twinkle little star.\n",
    "How I wonder what you are.\n",
    "Up above the world so high.\n",
    "Like a diamond in the sky.\n",
    "Twinkle twinkle little star.\n",
    "How I wonder what you are.\n",
    "\n",
    "Twinkle twinkle little star.\n",
    "How I wonder what you are.\n",
    "Up above the world so high.\n",
    "Like a diamond in the sky.\n",
    "Twinkle twinkle little star.\n",
    "How I wonder what you are.''')     # here we used triple single quotes to print multiline string."
   ]
  },
  {
   "cell_type": "code",
   "execution_count": 32,
   "id": "4631f360-8aaa-4b29-ab4f-12e12063e277",
   "metadata": {},
   "outputs": [
    {
     "name": "stdout",
     "output_type": "stream",
     "text": [
      "2\n",
      "3.149\n",
      "True\n",
      "pranaw\n",
      "None\n"
     ]
    }
   ],
   "source": [
    "a = 2    # int datatype\n",
    "b = 3.149   # this is a float datatype\n",
    "c = True   # this is a boolean datatype\n",
    "d = \"pranaw\"   # this is a string \n",
    "e = None   # stores no value at all\n",
    "\n",
    "print(a)\n",
    "print(b)\n",
    "print(c)\n",
    "print(d)\n",
    "print(e)"
   ]
  },
  {
   "cell_type": "code",
   "execution_count": 31,
   "id": "d2eaa1a0-0aee-4429-977b-99b3fcd71a84",
   "metadata": {},
   "outputs": [
    {
     "name": "stdout",
     "output_type": "stream",
     "text": [
      "<class 'int'>\n",
      "<class 'int'>\n",
      "<class 'bool'>\n",
      "<class 'str'>\n",
      "<class 'NoneType'>\n"
     ]
    }
   ],
   "source": [
    "print(type(a))   # this is called typecasting\n",
    "print(type(b))\n",
    "print(type(c))\n",
    "print(type(d))\n",
    "print(type(e))"
   ]
  },
  {
   "cell_type": "code",
   "execution_count": null,
   "id": "093f8533-cbf8-4e92-9ae1-28feea17dcb9",
   "metadata": {},
   "outputs": [],
   "source": []
  },
  {
   "cell_type": "code",
   "execution_count": null,
   "id": "9bee7f5d-c3dc-4bc4-892d-c861cb45bd8d",
   "metadata": {},
   "outputs": [],
   "source": [
    "\n",
    "                                    # part 2  --> code with harry\n"
   ]
  },
  {
   "cell_type": "code",
   "execution_count": null,
   "id": "8aa36fe0-4ead-41eb-aa92-ef0ff2bfcc19",
   "metadata": {},
   "outputs": [],
   "source": []
  },
  {
   "cell_type": "code",
   "execution_count": null,
   "id": "28f299c8-0bb8-46b8-9e8d-c188efbe707e",
   "metadata": {},
   "outputs": [],
   "source": [
    "# string concatenation\n",
    "\n",
    "a = input(\"enter a number : \")\n",
    "b = input(\"enter a number : \")\n",
    "print (\"the sum of number is : \", a+b)    # this will print o/p- 23 i.e num 1 + num 2 as they are considered as string."
   ]
  },
  {
   "cell_type": "code",
   "execution_count": null,
   "id": "669e1d9c-0506-4f93-affe-4e21ea15e481",
   "metadata": {},
   "outputs": [],
   "source": [
    "# error resolve\n",
    "# 1. Write a python program to add two numbers.\n",
    "a = int(input(\"enter a number : \"))\n",
    "b = int(input(\"enter a number : \"))\n",
    "print (\"the sum of number is : \", a+b)   # here it will show the addition as we defined that it is int value."
   ]
  },
  {
   "cell_type": "code",
   "execution_count": null,
   "id": "ad92d2a3-61b6-4728-b7a0-f0fcd7d941fb",
   "metadata": {},
   "outputs": [],
   "source": [
    "#2. Write a python program to find remainder when a number is divided by z.\n",
    "\n",
    "z = int(input(\"enter a divisor(the one dividing) : \"))\n",
    "number = int(input(\"enter a dividend(the number inside) : \"))\n",
    "\n",
    "print(\"your divided value is = \", number/z)\n",
    "print(\"your reaminder value is = \", number%z)"
   ]
  },
  {
   "cell_type": "code",
   "execution_count": null,
   "id": "8dbb54eb-f3ac-4d28-8f2e-818e6cca63a5",
   "metadata": {},
   "outputs": [],
   "source": [
    "#3. Check the type of variable assigned using input () function.\n",
    "\n",
    "# code in progress --- wrong code\n",
    "\n",
    "value = input(\"enter a variable(int,float....etc.) so that you can get its datatype : \")\n",
    "\n",
    "if value.isdigit() :\n",
    "    new_val = int(value)\n",
    "    print(\"the datatype is = \", type(new_val))\n",
    "    break\n",
    "\n",
    "elif value.isfloat() :\n",
    "    new_val1 = float(value)\n",
    "    print(\"the datatype is = \", type(new_val1))\n",
    "    break\n",
    "\n",
    "elif value.isbool() :\n",
    "    new_val2 = bool value\n",
    "    print(\"the datatype is = \", type(new_val2))\n",
    "    break\n",
    "\n",
    "elif value.isstr() :\n",
    "    new_val3 = str value\n",
    "    print(\"the datatype is = \", type(new_val3))\n",
    "    break\n",
    "\n",
    "else :\n",
    "    print(\"error : \", type(value))\n",
    "    break\n"
   ]
  },
  {
   "cell_type": "code",
   "execution_count": 30,
   "id": "79ca44a9-dcf5-4cea-a3bb-6a4468cb263a",
   "metadata": {},
   "outputs": [
    {
     "name": "stdout",
     "output_type": "stream",
     "text": [
      "a < b\n"
     ]
    }
   ],
   "source": [
    "#4. Use comparison operator to find out whether ‘a’ given variable a is greater than\n",
    "# ‘b’ or not. Take a = 34 and b = 80\n",
    "\n",
    "a = 34\n",
    "b = 80\n",
    "\n",
    "if(a>b):\n",
    "    print(\"a > b\")\n",
    "else:\n",
    "    print(\"a < b\")"
   ]
  },
  {
   "cell_type": "code",
   "execution_count": null,
   "id": "28c191b8-9f67-44ec-bd5b-b313f29be76b",
   "metadata": {},
   "outputs": [],
   "source": [
    "#5. Write a python program to find an average of two numbers entered by the user\n",
    "\n",
    "a = int(input(\"enter a number : \"))\n",
    "b = int(input(\"enter a number : \"))\n",
    "\n",
    "c = (a+b)/2\n",
    "print(\"the average of 2 numbers is : \", c)\n"
   ]
  },
  {
   "cell_type": "code",
   "execution_count": 29,
   "id": "30acafc5-b1a7-45d8-b151-6243a45eb0da",
   "metadata": {},
   "outputs": [
    {
     "name": "stdout",
     "output_type": "stream",
     "text": [
      "the square of the number u gave is :  4900\n"
     ]
    }
   ],
   "source": [
    "#6. Write a python program to calculate the square of a number entered by the user\n",
    "\n",
    "a = int(input(\"enter a number u want the square of : \"))\n",
    "print(\"the square of the number u gave is : \",a**2)"
   ]
  },
  {
   "cell_type": "code",
   "execution_count": null,
   "id": "b3dee18d-30fc-482c-a4e2-d2a61945f778",
   "metadata": {},
   "outputs": [],
   "source": []
  },
  {
   "cell_type": "code",
   "execution_count": null,
   "id": "7af8bb8d-9a82-4183-ae77-d2220d1a3456",
   "metadata": {},
   "outputs": [],
   "source": [
    "\n",
    "                                # part 3 --> code with harry\n"
   ]
  },
  {
   "cell_type": "code",
   "execution_count": null,
   "id": "a313448b-97db-4b75-b383-717be7fbf5b1",
   "metadata": {},
   "outputs": [],
   "source": []
  },
  {
   "cell_type": "code",
   "execution_count": 36,
   "id": "37f54157-1fae-4037-8bad-3ff8a044ea2a",
   "metadata": {},
   "outputs": [
    {
     "name": "stdout",
     "output_type": "stream",
     "text": [
      "5\n",
      "True\n",
      "True\n",
      "Hello\n"
     ]
    }
   ],
   "source": [
    "name = \"hello\"\n",
    "print(len(name))\n",
    "print(name.endswith(\"llo\"))\n",
    "print(name.startswith(\"hel\"))\n",
    "print(name.capitalize())"
   ]
  },
  {
   "cell_type": "code",
   "execution_count": 102,
   "id": "0cb3076d",
   "metadata": {},
   "outputs": [
    {
     "name": "stdout",
     "output_type": "stream",
     "text": [
      "welcome Pranaw, you are welcomed ! \n"
     ]
    }
   ],
   "source": [
    "name = input (\"enter your name\")\n",
    "print (f\"welcome {name.capitalize()}, you are welcomed ! \")     # use of 'f' string \n"
   ]
  },
  {
   "cell_type": "code",
   "execution_count": null,
   "id": "9ba662d0",
   "metadata": {},
   "outputs": [
    {
     "name": "stdout",
     "output_type": "stream",
     "text": [
      "your length of string is 15\n",
      "the sliced word is \"nothing phone 1\"\n",
      "the reversed sliced word is \"1 enohp gnihton\"\n"
     ]
    }
   ],
   "source": [
    "name = input(\"enter your name\")\n",
    "print(f\"your length of string is {len(name)}\")\n",
    "\n",
    "# Define the slicing step\n",
    "# i = int(input(\"enter your slicing integer\"))  # Reverse slicing step\n",
    "print(f\"the sliced word is \\\"{name[::]}\\\"\")  # Correct slicing logic\n",
    "print(f\"the reversed sliced word is \\\"{name[::-1]}\\\"\")  # Correct slicing logic"
   ]
  },
  {
   "cell_type": "code",
   "execution_count": 64,
   "id": "6e062d1c",
   "metadata": {},
   "outputs": [
    {
     "name": "stdout",
     "output_type": "stream",
     "text": [
      "Dear Pranaw,\n",
      "You are selected !\n",
      "27-03-2025\n"
     ]
    }
   ],
   "source": [
    "                                #practice set 3\n",
    "\n",
    "#Write a program to fill in a letter template given below with name and date. \n",
    "\n",
    "from datetime import datetime\n",
    "from time import strftime\n",
    "current_date = datetime.now().strftime(\"%d-%m-%Y\")\n",
    "name = input(\"Enter your name\")\n",
    "print(f'''Dear {name.capitalize()},\n",
    "You are selected !\n",
    "{current_date}''')"
   ]
  },
  {
   "cell_type": "code",
   "execution_count": 101,
   "id": "3fcf0c77",
   "metadata": {},
   "outputs": [
    {
     "name": "stdout",
     "output_type": "stream",
     "text": [
      "['h', 'e', 'l', 'l', 'o', ' ', ' ', 't', 'h', 'e', 'r', 'e']\n",
      "Your name's count = 12\n",
      "h\n",
      "e\n",
      "l\n",
      "l\n",
      "o\n",
      " \n",
      " \n",
      "t\n",
      "h\n",
      "e\n",
      "r\n",
      "e\n",
      "\n",
      "i.e You have double gap\n"
     ]
    }
   ],
   "source": [
    "#3. Write a program to detect double space in a string.\n",
    "\n",
    "name = input(\"Enter your name\")\n",
    "split_name = list(name)\n",
    "print(split_name)\n",
    "count = len(split_name)\n",
    "print(f\"Your name's count = {count}\")\n",
    "for i in range(count):\n",
    "    print(split_name[i])\n",
    "if \"  \" in name:\n",
    "    print(\"\\ni.e You have double gap\")\n",
    "elif \" \" in name:\n",
    "    print(\"\\ni.e You have single gap\")\n",
    "else:\n",
    "    print(\"\\ni.e There is no gap in your name\")"
   ]
  },
  {
   "cell_type": "code",
   "execution_count": 100,
   "id": "8946cdea",
   "metadata": {},
   "outputs": [
    {
     "name": "stdout",
     "output_type": "stream",
     "text": [
      "Your replace string is = Hello  there,where the \"double gap\" is being replaced by \"single gap\".\n"
     ]
    }
   ],
   "source": [
    "name = input(\"Enter your name\")\n",
    "length = len(name)\n",
    "\n",
    "if \"  \" in name:\n",
    "    replaced_string = name.replace(\"  \",\" \")\n",
    "    print(f\"Your replace string is = {replaced_string.capitalize()},where the \\\"double gap\\\" is being replaced by \\\"single gap\\\".\")\n",
    "else:\n",
    "    print(\"No double space detected\")"
   ]
  },
  {
   "cell_type": "code",
   "execution_count": null,
   "id": "1e4bcb48",
   "metadata": {},
   "outputs": [],
   "source": []
  }
 ],
 "metadata": {
  "kernelspec": {
   "display_name": "Python 3",
   "language": "python",
   "name": "python3"
  },
  "language_info": {
   "codemirror_mode": {
    "name": "ipython",
    "version": 3
   },
   "file_extension": ".py",
   "mimetype": "text/x-python",
   "name": "python",
   "nbconvert_exporter": "python",
   "pygments_lexer": "ipython3",
   "version": "3.13.2"
  }
 },
 "nbformat": 4,
 "nbformat_minor": 5
}
