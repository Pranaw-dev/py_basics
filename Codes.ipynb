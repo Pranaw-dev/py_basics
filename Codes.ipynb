{
 "cells": [
  {
   "cell_type": "code",
   "execution_count": null,
   "id": "f15d72f4-3e8e-4dcd-b678-33f7800611a3",
   "metadata": {},
   "outputs": [],
   "source": [
    "\n",
    "                        # Chapter 1  (practice set(modules,comments & pip))\n"
   ]
  },
  {
   "cell_type": "code",
   "execution_count": null,
   "id": "f9c02cc9-f78c-4d79-abaa-5d9c28578fea",
   "metadata": {
    "editable": true,
    "slideshow": {
     "slide_type": ""
    },
    "tags": []
   },
   "outputs": [],
   "source": []
  },
  {
   "cell_type": "code",
   "execution_count": 33,
   "id": "32d38a0b-3d23-48d2-913b-975fe9a4c2ff",
   "metadata": {},
   "outputs": [
    {
     "name": "stdout",
     "output_type": "stream",
     "text": [
      "Song Lyrics\n",
      "Twinkle twinkle little star.\n",
      "How I wonder what you are.\n",
      "Up above the world so high.\n",
      "Like a diamond in the sky.\n",
      "Twinkle twinkle little star.\n",
      "How I wonder what you are.\n",
      "\n",
      "Twinkle twinkle little star.\n",
      "How I wonder what you are.\n",
      "Up above the world so high.\n",
      "Like a diamond in the sky.\n",
      "Twinkle twinkle little star.\n",
      "How I wonder what you are.\n"
     ]
    }
   ],
   "source": [
    "print ('''Song Lyrics\n",
    "Twinkle twinkle little star.\n",
    "How I wonder what you are.\n",
    "Up above the world so high.\n",
    "Like a diamond in the sky.\n",
    "Twinkle twinkle little star.\n",
    "How I wonder what you are.\n",
    "\n",
    "Twinkle twinkle little star.\n",
    "How I wonder what you are.\n",
    "Up above the world so high.\n",
    "Like a diamond in the sky.\n",
    "Twinkle twinkle little star.\n",
    "How I wonder what you are.''')     # here we used triple single quotes to print multiline string."
   ]
  },
  {
   "cell_type": "code",
   "execution_count": 32,
   "id": "4631f360-8aaa-4b29-ab4f-12e12063e277",
   "metadata": {},
   "outputs": [
    {
     "name": "stdout",
     "output_type": "stream",
     "text": [
      "2\n",
      "3.149\n",
      "True\n",
      "pranaw\n",
      "None\n"
     ]
    }
   ],
   "source": [
    "a = 2    # int datatype\n",
    "b = 3.149   # this is a float datatype\n",
    "c = True   # this is a boolean datatype\n",
    "d = \"pranaw\"   # this is a string \n",
    "e = None   # stores no value at all\n",
    "\n",
    "print(a)\n",
    "print(b)\n",
    "print(c)\n",
    "print(d)\n",
    "print(e)"
   ]
  },
  {
   "cell_type": "code",
   "execution_count": 31,
   "id": "d2eaa1a0-0aee-4429-977b-99b3fcd71a84",
   "metadata": {},
   "outputs": [
    {
     "name": "stdout",
     "output_type": "stream",
     "text": [
      "<class 'int'>\n",
      "<class 'int'>\n",
      "<class 'bool'>\n",
      "<class 'str'>\n",
      "<class 'NoneType'>\n"
     ]
    }
   ],
   "source": [
    "print(type(a))   # this is called typecasting\n",
    "print(type(b))\n",
    "print(type(c))\n",
    "print(type(d))\n",
    "print(type(e))"
   ]
  },
  {
   "cell_type": "code",
   "execution_count": null,
   "id": "093f8533-cbf8-4e92-9ae1-28feea17dcb9",
   "metadata": {},
   "outputs": [],
   "source": []
  },
  {
   "cell_type": "code",
   "execution_count": null,
   "id": "9bee7f5d-c3dc-4bc4-892d-c861cb45bd8d",
   "metadata": {},
   "outputs": [],
   "source": [
    "\n",
    "                        # Chapter 2  (practice set(VARIABLE AND DATATYPE))\n"
   ]
  },
  {
   "cell_type": "code",
   "execution_count": null,
   "id": "8aa36fe0-4ead-41eb-aa92-ef0ff2bfcc19",
   "metadata": {},
   "outputs": [],
   "source": []
  },
  {
   "cell_type": "code",
   "execution_count": null,
   "id": "28f299c8-0bb8-46b8-9e8d-c188efbe707e",
   "metadata": {},
   "outputs": [],
   "source": [
    "# string concatenation\n",
    "\n",
    "a = input(\"enter a number : \")\n",
    "b = input(\"enter a number : \")\n",
    "print (\"the sum of number is : \", a+b)    # this will print o/p- 23 i.e num 1 + num 2 as they are considered as string."
   ]
  },
  {
   "cell_type": "code",
   "execution_count": null,
   "id": "669e1d9c-0506-4f93-affe-4e21ea15e481",
   "metadata": {},
   "outputs": [],
   "source": [
    "# error resolve\n",
    "# 1. Write a python program to add two numbers.\n",
    "a = int(input(\"enter a number : \"))\n",
    "b = int(input(\"enter a number : \"))\n",
    "print (\"the sum of number is : \", a+b)   # here it will show the addition as we defined that it is int value."
   ]
  },
  {
   "cell_type": "code",
   "execution_count": null,
   "id": "ad92d2a3-61b6-4728-b7a0-f0fcd7d941fb",
   "metadata": {},
   "outputs": [],
   "source": [
    "#2. Write a python program to find remainder when a number is divided by z.\n",
    "\n",
    "z = int(input(\"enter a divisor(the one dividing) : \"))\n",
    "number = int(input(\"enter a dividend(the number inside) : \"))\n",
    "\n",
    "print(\"your divided value is = \", number/z)\n",
    "print(\"your reaminder value is = \", number%z)"
   ]
  },
  {
   "cell_type": "code",
   "execution_count": null,
   "id": "8dbb54eb-f3ac-4d28-8f2e-818e6cca63a5",
   "metadata": {},
   "outputs": [],
   "source": [
    "#3. Check the type of variable assigned using input () function.\n",
    "\n",
    "# code in progress --- wrong code\n",
    "\n",
    "value = input(\"enter a variable(int,float....etc.) so that you can get its datatype : \")\n",
    "\n",
    "if value.isdigit() :\n",
    "    new_val = int(value)\n",
    "    print(\"the datatype is = \", type(new_val))\n",
    "    break\n",
    "\n",
    "elif value.isfloat() :\n",
    "    new_val1 = float(value)\n",
    "    print(\"the datatype is = \", type(new_val1))\n",
    "    break\n",
    "\n",
    "elif value.isbool() :\n",
    "    new_val2 = bool value\n",
    "    print(\"the datatype is = \", type(new_val2))\n",
    "    break\n",
    "\n",
    "elif value.isstr() :\n",
    "    new_val3 = str value\n",
    "    print(\"the datatype is = \", type(new_val3))\n",
    "    break\n",
    "\n",
    "else :\n",
    "    print(\"error : \", type(value))\n",
    "    break\n"
   ]
  },
  {
   "cell_type": "code",
   "execution_count": 30,
   "id": "79ca44a9-dcf5-4cea-a3bb-6a4468cb263a",
   "metadata": {},
   "outputs": [
    {
     "name": "stdout",
     "output_type": "stream",
     "text": [
      "a < b\n"
     ]
    }
   ],
   "source": [
    "#4. Use comparison operator to find out whether ‘a’ given variable a is greater than\n",
    "# ‘b’ or not. Take a = 34 and b = 80\n",
    "\n",
    "a = 34\n",
    "b = 80\n",
    "\n",
    "if(a>b):\n",
    "    print(\"a > b\")\n",
    "else:\n",
    "    print(\"a < b\")"
   ]
  },
  {
   "cell_type": "code",
   "execution_count": null,
   "id": "28c191b8-9f67-44ec-bd5b-b313f29be76b",
   "metadata": {},
   "outputs": [],
   "source": [
    "#5. Write a python program to find an average of two numbers entered by the user\n",
    "\n",
    "a = int(input(\"enter a number : \"))\n",
    "b = int(input(\"enter a number : \"))\n",
    "\n",
    "c = (a+b)/2\n",
    "print(\"the average of 2 numbers is : \", c)\n"
   ]
  },
  {
   "cell_type": "code",
   "execution_count": 29,
   "id": "30acafc5-b1a7-45d8-b151-6243a45eb0da",
   "metadata": {},
   "outputs": [
    {
     "name": "stdout",
     "output_type": "stream",
     "text": [
      "the square of the number u gave is :  4900\n"
     ]
    }
   ],
   "source": [
    "#6. Write a python program to calculate the square of a number entered by the user\n",
    "\n",
    "a = int(input(\"enter a number u want the square of : \"))\n",
    "print(\"the square of the number u gave is : \",a**2)"
   ]
  },
  {
   "cell_type": "code",
   "execution_count": null,
   "id": "b3dee18d-30fc-482c-a4e2-d2a61945f778",
   "metadata": {},
   "outputs": [],
   "source": []
  },
  {
   "cell_type": "code",
   "execution_count": null,
   "id": "7af8bb8d-9a82-4183-ae77-d2220d1a3456",
   "metadata": {},
   "outputs": [],
   "source": [
    "\n",
    "                        # Chapter 3  (practice set(STRINGS))\n",
    "            # Strings are immutable datatype , like u cannot change the str type inside it\n",
    "        #eg. = a = \"pranaw\"\n",
    "        # so --> a[1] >> works \n",
    "        #                       but--\n",
    "        #    --> a[1]=\"y\"  ... wont work as u cannot change strings as they are immutable \n"
   ]
  },
  {
   "cell_type": "code",
   "execution_count": null,
   "id": "a313448b-97db-4b75-b383-717be7fbf5b1",
   "metadata": {},
   "outputs": [],
   "source": []
  },
  {
   "cell_type": "code",
   "execution_count": 36,
   "id": "37f54157-1fae-4037-8bad-3ff8a044ea2a",
   "metadata": {},
   "outputs": [
    {
     "name": "stdout",
     "output_type": "stream",
     "text": [
      "5\n",
      "True\n",
      "True\n",
      "Hello\n"
     ]
    }
   ],
   "source": [
    "name = \"hello\"\n",
    "print(len(name))\n",
    "print(name.endswith(\"llo\"))\n",
    "print(name.startswith(\"hel\"))\n",
    "print(name.capitalize())"
   ]
  },
  {
   "cell_type": "code",
   "execution_count": 102,
   "id": "0cb3076d",
   "metadata": {},
   "outputs": [
    {
     "name": "stdout",
     "output_type": "stream",
     "text": [
      "welcome Pranaw, you are welcomed ! \n"
     ]
    }
   ],
   "source": [
    "name = input (\"enter your name\")\n",
    "print (f\"welcome {name.capitalize()}, you are welcomed ! \")     # use of 'f' string \n"
   ]
  },
  {
   "cell_type": "code",
   "execution_count": null,
   "id": "9ba662d0",
   "metadata": {},
   "outputs": [
    {
     "name": "stdout",
     "output_type": "stream",
     "text": [
      "your length of string is 15\n",
      "the sliced word is \"nothing phone 1\"\n",
      "the reversed sliced word is \"1 enohp gnihton\"\n"
     ]
    }
   ],
   "source": [
    "name = input(\"enter your name\")\n",
    "print(f\"your length of string is {len(name)}\")\n",
    "\n",
    "# Define the slicing step\n",
    "# i = int(input(\"enter your slicing integer\"))  # Reverse slicing step\n",
    "print(f\"the sliced word is \\\"{name[::]}\\\"\")  # Correct slicing logic\n",
    "print(f\"the reversed sliced word is \\\"{name[::-1]}\\\"\")  # Correct slicing logic"
   ]
  },
  {
   "cell_type": "code",
   "execution_count": 1,
   "id": "6e062d1c",
   "metadata": {},
   "outputs": [
    {
     "name": "stdout",
     "output_type": "stream",
     "text": [
      "Dear Pranaw,\n",
      "You are selected !\n",
      "29-03-2025\n"
     ]
    }
   ],
   "source": [
    "                                #practice set 3\n",
    "\n",
    "#Write a program to fill in a letter template given below with name and date. \n",
    "\n",
    "from datetime import datetime\n",
    "from time import strftime\n",
    "current_date = datetime.now().strftime(\"%d-%m-%Y\")\n",
    "name = input(\"Enter your name\")\n",
    "print(f'''Dear {name.capitalize()},\n",
    "You are selected !\n",
    "{current_date}''')"
   ]
  },
  {
   "cell_type": "code",
   "execution_count": 26,
   "metadata": {},
   "outputs": [
    {
     "name": "stdout",
     "output_type": "stream",
     "text": [
      "  \n",
      "Dear Pranaw, \n",
      "You are selected! \n",
      "29-03-25\n"
     ]
    }
   ],
   "source": [
    "                            # OR\n",
    "\n",
    "from datetime import datetime\n",
    "from time import strftime\n",
    "current_date = datetime.now().strftime(\"%d-%m-%y\")\n",
    "letter = '''  \n",
    "Dear <|Name|>, \n",
    "You are selected! \n",
    "<|Date|>'''\n",
    "\n",
    "your_name = input(\"enter your name : \")\n",
    "\n",
    "print(letter.replace(\"<|Name|>\", your_name.capitalize()).replace(\"<|Date|>\", current_date))"
   ]
  },
  {
   "cell_type": "code",
   "execution_count": 2,
   "id": "3fcf0c77",
   "metadata": {},
   "outputs": [
    {
     "name": "stdout",
     "output_type": "stream",
     "text": [
      "['p', 'r', 'a', 'n', 'a', 'w']\n",
      "Your name's count = 6\n",
      "p\n",
      "r\n",
      "a\n",
      "n\n",
      "a\n",
      "w\n",
      "\n",
      "i.e There is no gap in your name\n"
     ]
    }
   ],
   "source": [
    "#3. Write a program to detect double space in a string.\n",
    "\n",
    "name = input(\"Enter your name\")\n",
    "split_name = list(name)\n",
    "print(split_name)\n",
    "count = len(split_name)\n",
    "print(f\"Your name's count = {count}\")\n",
    "for i in range(count):\n",
    "    print(split_name[i])\n",
    "if \"  \" in name:\n",
    "    print(\"\\ni.e You have double gap\")\n",
    "elif \" \" in name:\n",
    "    print(\"\\ni.e You have single gap\")\n",
    "else:\n",
    "    print(\"\\ni.e There is no gap in your name\")"
   ]
  },
  {
   "cell_type": "code",
   "execution_count": 24,
   "id": "a56755c1",
   "metadata": {},
   "outputs": [
    {
     "name": "stdout",
     "output_type": "stream",
     "text": [
      "5\n",
      "-- your name has double gap --\n",
      "Huwai  Phone\n",
      "-- your name after removing double space = Huwai Phone\n"
     ]
    }
   ],
   "source": [
    "name = input(\"Enter your name : \")\n",
    "number = name.find(\"  \")\n",
    "print(number)\n",
    "if number >= 0:\n",
    "    print(\"-- your name has double gap --\")\n",
    "    print(name.title())\n",
    "    print(\"-- your name after removing double space =\", name.title().replace(\"  \", \" \"))\n",
    "else:\n",
    "    print(\"-- your name doesn't have double gap --\")"
   ]
  },
  {
   "cell_type": "code",
   "execution_count": 3,
   "id": "8946cdea",
   "metadata": {},
   "outputs": [
    {
     "name": "stdout",
     "output_type": "stream",
     "text": [
      "No double space detected\n"
     ]
    }
   ],
   "source": [
    "name = input(\"Enter your name\")\n",
    "length = len(name)\n",
    "\n",
    "if \"  \" in name:\n",
    "    replaced_string = name.replace(\"  \",\" \")\n",
    "    print(f\"Your replace string is = {replaced_string.capitalize()},where the \\\"double gap\\\" is being replaced by \\\"single gap\\\".\")\n",
    "else:\n",
    "    print(\"No double space detected\")"
   ]
  },
  {
   "cell_type": "code",
   "execution_count": 4,
   "id": "eec6ed4b",
   "metadata": {},
   "outputs": [
    {
     "name": "stdout",
     "output_type": "stream",
     "text": [
      "\"Dear Harry, this python course is nice. Thanks!\"\n"
     ]
    }
   ],
   "source": [
    "#5. Write a program to format the following letter using escape sequence characters.\n",
    "\n",
    "print(\"\\\"Dear Harry, this python course is nice. Thanks!\\\"\")\n"
   ]
  },
  {
   "cell_type": "code",
   "execution_count": null,
   "id": "6eb50b2b",
   "metadata": {},
   "outputs": [],
   "source": []
  },
  {
   "cell_type": "code",
   "execution_count": null,
   "id": "a5086c66",
   "metadata": {},
   "outputs": [],
   "source": [
    "\n",
    "                        # Chapter 4  (practice set(LISTS AND TUPLES))\n",
    "                # These are mutable datatypes unlike string ."
   ]
  },
  {
   "cell_type": "code",
   "execution_count": null,
   "id": "b7baef68",
   "metadata": {},
   "outputs": [],
   "source": []
  },
  {
   "cell_type": "code",
   "execution_count": null,
   "id": "f0ed4dc2",
   "metadata": {},
   "outputs": [
    {
     "name": "stdout",
     "output_type": "stream",
     "text": [
      "['orange', 'orange', 3.149, 2345, 'rohan']\n",
      "2\n",
      "3\n",
      "True\n"
     ]
    }
   ],
   "source": [
    "friends = [\"apples\",\"orange\",3.149,2345,\"rohan\"]\n",
    "new_word = input(\"enter your favourite food : \")\n",
    "friends[0] = new_word      # --> changes the indexed word or int value\n",
    "print(friends)\n",
    "print(friends.count(\"orange\"))\n",
    "print(friends.index(2345))\n",
    "print(\"orange\" in friends)    # --> returns boolean value"
   ]
  },
  {
   "cell_type": "code",
   "execution_count": 6,
   "id": "17a77c63",
   "metadata": {},
   "outputs": [
    {
     "name": "stdout",
     "output_type": "stream",
     "text": [
      "['hello', 'world', 'how ', 'are', 'you', 'doing', 'there']\n"
     ]
    }
   ],
   "source": [
    "#1. Write a program to store seven fruits in a list entered by the user. \n",
    "\n",
    "list = [\"\",\"\",\"\",\"\",\"\",\"\",\"\"]\n",
    "\n",
    "value_1 = input(\"enter value 1\")\n",
    "list[0] = value_1\n",
    "value_2 = input(\"enter value 2\")\n",
    "list[1] = value_2\n",
    "value_3 = input(\"enter value 3\")\n",
    "list[2] = value_3\n",
    "value_4 = input(\"enter value 4\")\n",
    "list[3] = value_4\n",
    "value_5 = input(\"enter value 5\")\n",
    "list[4] = value_5\n",
    "value_6 = input(\"enter value 6\")\n",
    "list[5] = value_6\n",
    "value_7 = input(\"enter value 7\")\n",
    "list[6] = value_7\n",
    "\n",
    "print(list)\n"
   ]
  },
  {
   "cell_type": "code",
   "execution_count": 9,
   "id": "49c94a97",
   "metadata": {},
   "outputs": [
    {
     "name": "stdout",
     "output_type": "stream",
     "text": [
      "['', '22', '33', '44', '55', '66', '88']\n"
     ]
    }
   ],
   "source": [
    "#2. Write a program to accept marks of 6 students and display them in a sorted manner.\n",
    "\n",
    "marks = [\"\",\"\",\"\",\"\",\"\",\"\",\"\"]\n",
    "\n",
    "value_1 = input(\"enter marks of first student\")\n",
    "marks[0] = value_1\n",
    "value_2 = input(\"enter marks of secind student\")\n",
    "marks[1] = value_2\n",
    "value_3 = input(\"enter marks of third student\")\n",
    "marks[2] = value_3\n",
    "value_4 = input(\"enter marks of fourth student\")\n",
    "marks[3] = value_4\n",
    "value_5 = input(\"enter marks of fifth student\")\n",
    "marks[4] = value_5\n",
    "value_6 = input(\"enter marks of sixth student\")\n",
    "marks[5] = value_6\n",
    "\n",
    "marks.sort()\n",
    "print(marks)"
   ]
  },
  {
   "cell_type": "code",
   "execution_count": null,
   "id": "5e1a0d96",
   "metadata": {},
   "outputs": [
    {
     "name": "stdout",
     "output_type": "stream",
     "text": [
      "your old list is [66, 55, 88, 77, 65, 99]\n",
      "your new list after sorting is [55, 65, 66, 77, 88, 99]\n"
     ]
    }
   ],
   "source": [
    "                            # -- OR\n",
    "\n",
    "marks = []\n",
    "for i in range(6):\n",
    "    value = int(input(\"enter number\"))\n",
    "    marks.append(value)\n",
    "\n",
    "print(f\"your old list is {marks}\")\n",
    "marks.sort()\n",
    "print(f\"your new list after sorting is {marks}\")"
   ]
  },
  {
   "cell_type": "code",
   "execution_count": null,
   "id": "e84a35bb",
   "metadata": {},
   "outputs": [
    {
     "name": "stdout",
     "output_type": "stream",
     "text": [
      "your values are :['hello', '2']\n",
      "<class 'tuple'>\n",
      "Error'tuple' object does not support item assignment\n"
     ]
    }
   ],
   "source": [
    "# Check that a tuple type cannot be changed in python.\n",
    "\n",
    "container = []\n",
    "for i in range(2):\n",
    "    value = input(\"input a value\")\n",
    "    container.append(value)\n",
    "\n",
    "print(f\"your values are :{container}\")\n",
    "immutable_container = tuple(container)\n",
    "print(type((immutable_container)))\n",
    "\n",
    "try :\n",
    "    immutable_container[0] = \"hello\"\n",
    "except TypeError as e:\n",
    "    print(f\"Error{e}\")    # This will raise a TypeError"
   ]
  },
  {
   "cell_type": "code",
   "execution_count": 51,
   "id": "9307001a",
   "metadata": {},
   "outputs": [
    {
     "name": "stdout",
     "output_type": "stream",
     "text": [
      "\n",
      "The list in which values will get added is :[1, 2, 3, 4]\n",
      "\n",
      "The values that will get added in the list are :[55, 66, 77, 88]\n",
      "\n",
      "Your new container is :[56, 68, 80, 92]\n"
     ]
    }
   ],
   "source": [
    "# 4. Write a program to sum a list with 4 numbers.\n",
    "\n",
    "container_overall = []\n",
    "container_num = []\n",
    "container_value = []\n",
    "\n",
    "for i in range(4):\n",
    "    value = int(input(\"Enter your numbers\"))\n",
    "    container_value.append(value)\n",
    "    # value_2 = value.count()+value_1.count()\n",
    "    # value_2 = value()\n",
    "    # container_overall.append(value_2)\n",
    "\n",
    "for j in range(4):\n",
    "    value_1 = int(input(\"Enter numbers u wanna add to the list\"))\n",
    "    container_num.append(value_1)\n",
    "\n",
    "# print(f\"value 1 is :{container_value}\")\n",
    "# print(f\"value 2 is :{container_num}\")\n",
    "# number = container_num.__len__()\n",
    "# print(f\"value 3 is :{value+value_1}\")\n",
    "# container_overall.append(value_2)\n",
    "# print(number)\n",
    "\n",
    "# print(f\"\\nThe container values are :{value}\")\n",
    "\n",
    "print(f\"\\nThe list in which values will get added is :{container_value}\")\n",
    "print(f\"\\nThe values that will get added in the list are :{container_num}\")\n",
    "\n",
    "\n",
    "# for j in range(3):\n",
    "#     value = int(input(\"Enter your numbers to add to the list\"))\n",
    "#     container.append(value)\n",
    "\n",
    "# container_overall.append()\n",
    "list_add = container_value + container_num\n",
    "for i in range(0,4,1):\n",
    "    value_a = container_value[i]+container_num[i]\n",
    "    container_overall.append(value_a)\n",
    "\n",
    "print(f\"\\nYour new container is :{container_overall}\")"
   ]
  },
  {
   "cell_type": "code",
   "execution_count": 52,
   "id": "70358a01",
   "metadata": {},
   "outputs": [
    {
     "name": "stdout",
     "output_type": "stream",
     "text": [
      "The number of zeroes are :3\n"
     ]
    }
   ],
   "source": [
    "#5. Write a program to count the number of zeros in the following tuple: \n",
    "#                       -----> a = (7, 0, 8, 0, 0, 9) \n",
    " \n",
    "a = (7, 0, 8, 0, 0, 9)\n",
    "print(f\"The number of zeroes are :{a.count(0)}\")\n"
   ]
  },
  {
   "cell_type": "code",
   "execution_count": 8,
   "id": "bd2b2846",
   "metadata": {},
   "outputs": [
    {
     "name": "stdout",
     "output_type": "stream",
     "text": [
      "value\n",
      "[1, 2, 3, 4]\n",
      "The length of the list inside of the string is :4\n",
      "The list is :[1, 2, 3, 4]\n"
     ]
    }
   ],
   "source": [
    "                        # Chapter 5  (Dictionaries & Sets)\n",
    "\n",
    "a = {\n",
    "    \"key\" : \"value\",\n",
    "    \"harry\" : \"code\",\n",
    "    \"list\" : [1,2,3,4]\n",
    "}\n",
    "\n",
    "print(a[\"key\"])\n",
    "print(a[\"list\"])\n",
    "length = len(a[\"list\"])\n",
    "print(f\"The length of the list inside of the string is :{length}\")\n",
    "print(f\"The list is :{a[\"list\"][0:length]}\")\n",
    "\n",
    "# PROPERTIES OF PYTHON DICTION ARIES : \n",
    "# 1. It is unordered. \n",
    "# 2. It is mutable. \n",
    "# 3. It is indexed. \n",
    "# 4. Cannot contain duplicate keys. "
   ]
  },
  {
   "cell_type": "code",
   "execution_count": 11,
   "id": "cf13c355",
   "metadata": {},
   "outputs": [
    {
     "name": "stdout",
     "output_type": "stream",
     "text": [
      "The items are :dict_items([('key', 'value'), ('harry', 'code'), ('list', [1, 2, 3, 4])])\n",
      "dict_keys(['key', 'harry', 'list'])\n",
      "dict_values(['value', 'code', [1, 2, 3, 4]])\n",
      "None\n",
      "[1, 2, 3, 4]\n"
     ]
    }
   ],
   "source": [
    "a = {\n",
    "    \"key\" : \"value\",\n",
    "    \"harry\" : \"code\",\n",
    "    \"list\" : [1,2,3,4]\n",
    "}\n",
    "\n",
    "print(f\"The items are :{a.items()}\")\n",
    "print(a.keys())\n",
    "print(a.values())\n",
    "print(a.update({\"value\":\"values\"}))\n",
    "print(a.get(\"list\"))"
   ]
  },
  {
   "cell_type": "code",
   "execution_count": null,
   "id": "537156de",
   "metadata": {},
   "outputs": [],
   "source": []
  },
  {
   "cell_type": "code",
   "execution_count": null,
   "id": "807b2f62",
   "metadata": {},
   "outputs": [
    {
     "name": "stdout",
     "output_type": "stream",
     "text": [
      "{1, 12}\n"
     ]
    }
   ],
   "source": [
    "# ----- SET\n",
    "\n",
    "s = set()\n",
    "s.add(1)\n",
    "s.add(12)\n",
    "s.add(12)   # --- this means that u cannot show repeated values in a set\n",
    "print(s)\n",
    "\n",
    "\n",
    "# PROPERTIES OF SETS  \n",
    "# 1. Sets are unordered => Element’s order doesn’t matter \n",
    "# 2. Sets are unindexed => Cannot access elements by index \n",
    "# 3. There is no way to change items in sets. \n",
    "# 4. Sets cannot contain duplicate values"
   ]
  },
  {
   "cell_type": "code",
   "execution_count": 25,
   "id": "b0d0bc16",
   "metadata": {},
   "outputs": [
    {
     "name": "stdout",
     "output_type": "stream",
     "text": [
      "30\n",
      "[10, 20, 40]\n",
      "40\n",
      "[10, 20]\n",
      "[10, 30, 40, 20]\n"
     ]
    }
   ],
   "source": [
    "# -- diff btw pop and remove\n",
    "\n",
    "l = [10, 20, 30, 40]\n",
    "print(l.pop(2))  # Removes and returns the element at index 2 (30)\n",
    "print(l)         # Output: [10, 20, 40]\n",
    "\n",
    "print(l.pop())   # Removes and returns the last element (40)\n",
    "print(l)         # Output: [10, 20]\n",
    "\n",
    "list = [10, 20, 30, 40, 20]\n",
    "list.remove(20)     # Removes the first occurrence of 20\n",
    "print(list)         # Output: [10, 30, 40, 20]\n",
    "\n",
    "# l.remove(50)   # Raises ValueError: 50 is not in list"
   ]
  },
  {
   "cell_type": "code",
   "execution_count": 5,
   "id": "6051693d",
   "metadata": {},
   "outputs": [
    {
     "name": "stdout",
     "output_type": "stream",
     "text": [
      "You chose no so the dictionary wont be showed to you\n"
     ]
    }
   ],
   "source": [
    "                        # Chapter 5  (Dictionaries & Sets(practice set))\n",
    "\n",
    "#. Write a program to create a dictionary of Hindi words with values as their English translation. Provide user with an option to look it up!\n",
    "\n",
    "dictionary = {\n",
    "    \"पुस्तक\": \"book\",\n",
    "    \"कुर्सी\": \"chair\",\n",
    "    \"मेज\": \"table\",\n",
    "    \"पंखा\": \"fan\",\n",
    "    \"दरवाजा\": \"door\",\n",
    "    \"खिड़की\": \"window\",\n",
    "    \"पानी\": \"water\",\n",
    "}\n",
    "\n",
    "insert = input(\"enter your choice to view dictionary (yes/no) : \")\n",
    "if(insert == \"yes\"):\n",
    "    print(f\"Your dictionary contains the values :{dictionary}\")\n",
    "else:\n",
    "    print(\"You chose no so the dictionary wont be showed to you\")\n",
    "\n"
   ]
  },
  {
   "cell_type": "code",
   "execution_count": null,
   "id": "bd5e8ffa",
   "metadata": {},
   "outputs": [],
   "source": []
  }
 ],
 "metadata": {
  "kernelspec": {
   "display_name": "Python 3",
   "language": "python",
   "name": "python3"
  },
  "language_info": {
   "codemirror_mode": {
    "name": "ipython",
    "version": 3
   },
   "file_extension": ".py",
   "mimetype": "text/x-python",
   "name": "python",
   "nbconvert_exporter": "python",
   "pygments_lexer": "ipython3",
   "version": "3.13.2"
  }
 },
 "nbformat": 4,
 "nbformat_minor": 5
}
