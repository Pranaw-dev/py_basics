{
 "cells": [
  {
   "cell_type": "code",
   "execution_count": 2,
   "metadata": {},
   "outputs": [
    {
     "name": "stdout",
     "output_type": "stream",
     "text": [
      "1\n",
      "    2\n",
      "  3\n",
      "  4\n",
      "    5\n",
      "6\n"
     ]
    }
   ],
   "source": [
    "def print_snake_pattern(n):\n",
    "    \"\"\"\n",
    "    Prints the digits of a number in a snake pattern.\n",
    "    \"\"\"\n",
    "    n_str = str(n)\n",
    "    for i, digit in enumerate(n_str):\n",
    "        if i % 2 == 0:\n",
    "            print(\" \" * i + digit)\n",
    "        else:\n",
    "            print(\" \" * (len(n_str) - i - 1) + digit)\n",
    "\n",
    "# Example usage\n",
    "number = 123456\n",
    "print_snake_pattern(number)"
   ]
  }
 ],
 "metadata": {
  "kernelspec": {
   "display_name": "Python 3",
   "language": "python",
   "name": "python3"
  },
  "language_info": {
   "codemirror_mode": {
    "name": "ipython",
    "version": 3
   },
   "file_extension": ".py",
   "mimetype": "text/x-python",
   "name": "python",
   "nbconvert_exporter": "python",
   "pygments_lexer": "ipython3",
   "version": "3.13.2"
  }
 },
 "nbformat": 4,
 "nbformat_minor": 2
}
